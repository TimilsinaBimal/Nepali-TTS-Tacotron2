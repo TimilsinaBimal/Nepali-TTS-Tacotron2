{
 "cells": [
  {
   "cell_type": "code",
   "execution_count": 6,
   "metadata": {},
   "outputs": [],
   "source": [
    "import numpy as np\n",
    "import pandas as pd"
   ]
  },
  {
   "cell_type": "code",
   "execution_count": 7,
   "metadata": {},
   "outputs": [
    {
     "data": {
      "text/html": [
       "<div>\n",
       "<style scoped>\n",
       "    .dataframe tbody tr th:only-of-type {\n",
       "        vertical-align: middle;\n",
       "    }\n",
       "\n",
       "    .dataframe tbody tr th {\n",
       "        vertical-align: top;\n",
       "    }\n",
       "\n",
       "    .dataframe thead th {\n",
       "        text-align: right;\n",
       "    }\n",
       "</style>\n",
       "<table border=\"1\" class=\"dataframe\">\n",
       "  <thead>\n",
       "    <tr style=\"text-align: right;\">\n",
       "      <th></th>\n",
       "      <th>filepath</th>\n",
       "      <th>text</th>\n",
       "    </tr>\n",
       "  </thead>\n",
       "  <tbody>\n",
       "    <tr>\n",
       "      <th>0</th>\n",
       "      <td>nep_0258_0119737288</td>\n",
       "      <td>दीपा धामीको जन्म सुदूरपश्चिम नेपालको बझाङ जिल्...</td>\n",
       "    </tr>\n",
       "    <tr>\n",
       "      <th>1</th>\n",
       "      <td>nep_0258_0461984530</td>\n",
       "      <td>डिग्रा देवीको जन्म सुदूरपश्चिम नेपालको बझाङ जि...</td>\n",
       "    </tr>\n",
       "    <tr>\n",
       "      <th>2</th>\n",
       "      <td>nep_0258_0576399736</td>\n",
       "      <td>टेकबहादुर ऐरको जन्म सुदूरपश्चिम नेपालको डडेलधु...</td>\n",
       "    </tr>\n",
       "    <tr>\n",
       "      <th>3</th>\n",
       "      <td>nep_0258_0707220145</td>\n",
       "      <td>सुमन शेखरमानन्धर नेपालको कृषि अर्थविद् तथा गाय...</td>\n",
       "    </tr>\n",
       "    <tr>\n",
       "      <th>4</th>\n",
       "      <td>nep_0258_0838627393</td>\n",
       "      <td>आधिकारिक रूपमा पहिलो नेपाली चलचित्र नायक शिव श...</td>\n",
       "    </tr>\n",
       "  </tbody>\n",
       "</table>\n",
       "</div>"
      ],
      "text/plain": [
       "              filepath                                               text\n",
       "0  nep_0258_0119737288  दीपा धामीको जन्म सुदूरपश्चिम नेपालको बझाङ जिल्...\n",
       "1  nep_0258_0461984530  डिग्रा देवीको जन्म सुदूरपश्चिम नेपालको बझाङ जि...\n",
       "2  nep_0258_0576399736  टेकबहादुर ऐरको जन्म सुदूरपश्चिम नेपालको डडेलधु...\n",
       "3  nep_0258_0707220145  सुमन शेखरमानन्धर नेपालको कृषि अर्थविद् तथा गाय...\n",
       "4  nep_0258_0838627393  आधिकारिक रूपमा पहिलो नेपाली चलचित्र नायक शिव श..."
      ]
     },
     "execution_count": 7,
     "metadata": {},
     "output_type": "execute_result"
    }
   ],
   "source": [
    "df = pd.read_csv(\"./data/ne_np_female/line_index.tsv\", sep=\"\\t\", header=None, names=['filepath','text'])\n",
    "df.head()"
   ]
  },
  {
   "cell_type": "code",
   "execution_count": 8,
   "metadata": {},
   "outputs": [],
   "source": [
    "df['relative_filepath'] = df.filepath.apply(lambda column: \"./data/ne_np_female/wavs/\" + column+\".wav\")"
   ]
  },
  {
   "cell_type": "code",
   "execution_count": 9,
   "metadata": {},
   "outputs": [],
   "source": [
    "df_new = df[['relative_filepath', 'text']]\n",
    "# for a, b in df_new.(:\n",
    "#     print(b)\n",
    "filepath = df_new['relative_filepath'].tolist()\n",
    "texts = df_new['text'].tolist()"
   ]
  },
  {
   "cell_type": "code",
   "execution_count": 10,
   "metadata": {},
   "outputs": [],
   "source": [
    "from sklearn.model_selection import train_test_split"
   ]
  },
  {
   "cell_type": "code",
   "execution_count": 11,
   "metadata": {},
   "outputs": [],
   "source": [
    "path_train, path_test, text_train, text_test = train_test_split(filepath, texts, test_size=0.05)"
   ]
  },
  {
   "cell_type": "code",
   "execution_count": 12,
   "metadata": {},
   "outputs": [],
   "source": [
    "with open(\"./filelists/train.txt\", \"w\") as f:\n",
    "    for idx in range(len(path_train)):\n",
    "        f.write(f\"{path_train[idx]}|{text_train[idx]}\\n\")\n",
    "\n",
    "with open(\"./filelists/test.txt\", \"w\") as f:\n",
    "    for idx in range(len(path_test)):\n",
    "        f.write(f\"{path_test[idx]}|{text_test[idx]}\\n\")\n"
   ]
  },
  {
   "cell_type": "markdown",
   "metadata": {},
   "source": [
    "## Resample Audio"
   ]
  },
  {
   "cell_type": "code",
   "execution_count": 21,
   "metadata": {},
   "outputs": [],
   "source": [
    "import librosa\n",
    "import soundfile as sf\n"
   ]
  },
  {
   "cell_type": "code",
   "execution_count": 24,
   "metadata": {},
   "outputs": [
    {
     "name": "stdout",
     "output_type": "stream",
     "text": [
      "22050\n"
     ]
    }
   ],
   "source": [
    "for idx, path in enumerate(filepath):\n",
    "    audio, sr = librosa.load(path)  \n",
    "    print(sr)  \n",
    "    break\n",
    "    # sf.write(path, audio, sr)\n",
    "    # print(f\"AUDIO: {idx+1}\")"
   ]
  },
  {
   "cell_type": "markdown",
   "metadata": {},
   "source": [
    "### Convert models"
   ]
  },
  {
   "cell_type": "code",
   "execution_count": 2,
   "metadata": {},
   "outputs": [
    {
     "name": "stderr",
     "output_type": "stream",
     "text": [
      "/home/bimal/anaconda3/envs/tacotron/lib/python3.7/site-packages/tqdm/auto.py:22: TqdmWarning: IProgress not found. Please update jupyter and ipywidgets. See https://ipywidgets.readthedocs.io/en/stable/user_install.html\n",
      "  from .autonotebook import tqdm as notebook_tqdm\n"
     ]
    }
   ],
   "source": [
    "import torch"
   ]
  },
  {
   "cell_type": "code",
   "execution_count": 13,
   "metadata": {},
   "outputs": [],
   "source": [
    "checkpoint_path = \"./output/checkpoint_17500\""
   ]
  },
  {
   "cell_type": "code",
   "execution_count": 14,
   "metadata": {},
   "outputs": [],
   "source": [
    "from model import Tacotron2\n",
    "from hparams import create_hparams\n",
    "from train import load_model"
   ]
  },
  {
   "cell_type": "code",
   "execution_count": 15,
   "metadata": {},
   "outputs": [],
   "source": [
    "hparams = create_hparams()\n",
    "model = load_model(hparams)"
   ]
  },
  {
   "cell_type": "code",
   "execution_count": 16,
   "metadata": {},
   "outputs": [
    {
     "data": {
      "text/plain": [
       "<All keys matched successfully>"
      ]
     },
     "execution_count": 16,
     "metadata": {},
     "output_type": "execute_result"
    }
   ],
   "source": [
    "checkpoint = torch.load(checkpoint_path)\n",
    "model.load_state_dict(checkpoint['state_dict'])"
   ]
  },
  {
   "cell_type": "code",
   "execution_count": 17,
   "metadata": {},
   "outputs": [],
   "source": [
    "torch.save(model, \"pretrained_model.pt\")"
   ]
  },
  {
   "cell_type": "code",
   "execution_count": 1,
   "metadata": {},
   "outputs": [],
   "source": [
    "from unidecode import unidecode\n",
    "def convert_to_ascii(text):\n",
    "    return unidecode(text)"
   ]
  },
  {
   "cell_type": "code",
   "execution_count": 2,
   "metadata": {},
   "outputs": [
    {
     "data": {
      "text/plain": [
       "'nvnirvaacit meyr saahle sthaaniiy thmaa aaphno jitlaaii vijy nbher kaamko suruvaatko rupmaa lieko btaaekaa chn'"
      ]
     },
     "execution_count": 2,
     "metadata": {},
     "output_type": "execute_result"
    }
   ],
   "source": [
    "text = \"नवनिर्वाचित मेयर साहले स्थानीय तहमा आफ्नो जितलाई विजय नभएर कामको सुरुवातको रुपमा लिएको बताएका छन्\"\n",
    "\n",
    "convert_to_ascii(text)"
   ]
  },
  {
   "cell_type": "code",
   "execution_count": null,
   "metadata": {},
   "outputs": [],
   "source": []
  }
 ],
 "metadata": {
  "interpreter": {
   "hash": "8f779b7bdb4cdbd221a58c57746088c40c2843eae4673b9005692041dbd8d7ec"
  },
  "kernelspec": {
   "display_name": "Python 3.7.13 ('tacotron')",
   "language": "python",
   "name": "python3"
  },
  "language_info": {
   "codemirror_mode": {
    "name": "ipython",
    "version": 3
   },
   "file_extension": ".py",
   "mimetype": "text/x-python",
   "name": "python",
   "nbconvert_exporter": "python",
   "pygments_lexer": "ipython3",
   "version": "3.7.13"
  },
  "orig_nbformat": 4
 },
 "nbformat": 4,
 "nbformat_minor": 2
}
